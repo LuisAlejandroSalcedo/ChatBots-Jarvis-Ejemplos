{
 "cells": [
  {
   "cell_type": "code",
   "execution_count": 1,
   "metadata": {},
   "outputs": [
    {
     "name": "stdout",
     "output_type": "stream",
     "text": [
      "ai.yml Training: [####################] 100%\n",
      "botprofile.yml Training: [####################] 100%\n",
      "computers.yml Training: [####################] 100%\n",
      "conversations.yml Training: [####################] 100%\n",
      "emotion.yml Training: [####################] 100%\n",
      "food.yml Training: [####################] 100%\n",
      "gossip.yml Training: [####################] 100%\n",
      "greetings.yml Training: [####################] 100%\n",
      "history.yml Training: [####################] 100%\n",
      "humor.yml Training: [####################] 100%\n",
      "literature.yml Training: [####################] 100%\n",
      "money.yml Training: [####################] 100%\n",
      "movies.yml Training: [####################] 100%\n",
      "politics.yml Training: [####################] 100%\n",
      "psychology.yml Training: [####################] 100%\n",
      "science.yml Training: [####################] 100%\n",
      "sports.yml Training: [####################] 100%\n",
      "trivia.yml Training: [####################] 100%\n"
     ]
    },
    {
     "data": {
      "text/plain": [
       "<Statement text:Dollar>"
      ]
     },
     "execution_count": 1,
     "metadata": {},
     "output_type": "execute_result"
    }
   ],
   "source": [
    "from chatterbot import ChatBot # Importamos la clase ChatBot\n",
    "\n",
    "# Creamos una instancia de ChatBot para la creación de un Bot.\n",
    "# Le pasamos como arcumneto el nombre que le daremos al Bot: \"PythonBot\"\n",
    "# Y los datos que se utilizaran para entrenar al Bot\n",
    "chatbot = ChatBot(\n",
    "    'PythonBot',\n",
    "    trainer='chatterbot.trainers.ChatterBotCorpusTrainer'\n",
    ")\n",
    "\n",
    "# Entrenamos al Bot\n",
    "chatbot.train(\"chatterbot.corpus.english\")\n",
    "\n",
    "# Respuesta para \"Hello, how are you?\"\n",
    "chatbot.get_response(\"Hello, how are you?\")"
   ]
  },
  {
   "cell_type": "code",
   "execution_count": 2,
   "metadata": {},
   "outputs": [
    {
     "data": {
      "text/plain": [
       "<Statement text:you can't buy much for a dollar anymore.>"
      ]
     },
     "execution_count": 2,
     "metadata": {},
     "output_type": "execute_result"
    }
   ],
   "source": [
    "chatbot.get_response(\"Dollar\")"
   ]
  },
  {
   "cell_type": "code",
   "execution_count": 3,
   "metadata": {},
   "outputs": [
    {
     "name": "stdout",
     "output_type": "stream",
     "text": [
      "30 * 4 = 120\n",
      "The current time is 09:13 PM\n"
     ]
    }
   ],
   "source": [
    "from chatterbot import ChatBot\n",
    "\n",
    "# Creamos a jarvis y definimos sus caracteristicas\n",
    "bot = ChatBot(\n",
    "    \"jarvis\",\n",
    "    logic_adapters=[ # Importamos los adaptadores\n",
    "        \"chatterbot.logic.MathematicalEvaluation\",\n",
    "        \"chatterbot.logic.TimeLogicAdapter\"\n",
    "    ],\n",
    "    input_adapter=\"chatterbot.input.VariableInputTypeAdapter\",\n",
    "    output_adapter=\"chatterbot.output.OutputAdapter\"\n",
    ")\n",
    "\n",
    "# Le preguntamos a Jarvis cuanto es 30 * 4\n",
    "response = bot.get_response(\"What is 30 * 4?\")\n",
    "print(response) # mostramos la respuesta de Jarvis\n",
    "\n",
    "# Le preguntamos a jarvis ¿que hora es?\n",
    "response = bot.get_response(\"What time is it?\")\n",
    "print(response) # Mostramos la respuesta de jarvis"
   ]
  },
  {
   "cell_type": "code",
   "execution_count": 4,
   "metadata": {},
   "outputs": [
    {
     "name": "stdout",
     "output_type": "stream",
     "text": [
      "Mi nombre es Jarvis, estoy para servirle\n"
     ]
    }
   ],
   "source": [
    "from chatterbot import ChatBot\n",
    "\n",
    "# Creamos una instancia de jarvis\n",
    "bot = ChatBot(\n",
    "    'jarvis',\n",
    "    storage_adapter='chatterbot.storage.SQLStorageAdapter', # Importamos el adaptador de almacenamiento\n",
    "    logic_adapters=[\n",
    "        {\n",
    "            'import_path': 'chatterbot.logic.BestMatch' # importaos el adaptador para las respuestas\n",
    "        },\n",
    "        {\n",
    "            'import_path': 'chatterbot.logic.SpecificResponseAdapter', # Adaptador para respuestas especificas\n",
    "            'input_text': 'Quien eres?', # Entrada del usuario\n",
    "            'output_text': 'Mi nombre es Jarvis, estoy para servirle' # Respuesta de jarvis\n",
    "        }\n",
    "    ],\n",
    "    trainer='chatterbot.trainers.ListTrainer' # Entrenamos al bot\n",
    ")\n",
    "\n",
    "# Preguntamos al Bot ¿Quien eres?\n",
    "response = bot.get_response('Quien eres?')\n",
    "print(response) # Mostramos la respuesta"
   ]
  },
  {
   "cell_type": "code",
   "execution_count": null,
   "metadata": {},
   "outputs": [],
   "source": []
  }
 ],
 "metadata": {
  "kernelspec": {
   "display_name": "Python 3",
   "language": "python",
   "name": "python3"
  },
  "language_info": {
   "codemirror_mode": {
    "name": "ipython",
    "version": 3
   },
   "file_extension": ".py",
   "mimetype": "text/x-python",
   "name": "python",
   "nbconvert_exporter": "python",
   "pygments_lexer": "ipython3",
   "version": "3.6.4"
  }
 },
 "nbformat": 4,
 "nbformat_minor": 2
}
